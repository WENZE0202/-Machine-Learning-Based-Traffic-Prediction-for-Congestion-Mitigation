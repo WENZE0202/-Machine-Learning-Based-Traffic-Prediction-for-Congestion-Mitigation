{
 "cells": [
  {
   "cell_type": "markdown",
   "source": [
    "# Data Preprocessing"
   ],
   "metadata": {
    "collapsed": false
   },
   "id": "8503c4059cf1551a"
  },
  {
   "cell_type": "code",
   "outputs": [],
   "source": [
    "import numpy as np\n",
    "import pandas as pd\n",
    "import matplotlib.pyplot as plt\n",
    "import seaborn as sns\n",
    "from sklearn import preprocessing\n",
    "\n",
    "from sklearn.model_selection import train_test_split\n",
    "from sklearn.preprocessing import MinMaxScaler\n",
    "from sklearn.preprocessing import LabelEncoder\n",
    "from sklearn.preprocessing import OneHotEncoder\n",
    "from tensorflow.python.keras.models import Sequential,Model\n",
    "from tensorflow.python.keras.callbacks import ModelCheckpoint, EarlyStopping\n",
    "from tensorflow.python.keras.layers import Dense,Embedding,Flatten,Input,Concatenate, Reshape, Dropout,merge,Activation,LSTM,GRU,SimpleRNN,Conv1D, MaxPooling1D, Flatten\n",
    "from tensorflow.python.keras.layers import merge\n",
    "import pandas as pd\n",
    "import numpy as np\n",
    "#! pip install categorical_embedder\n",
    "#import categorical_embedder as ce"
   ],
   "metadata": {
    "collapsed": true,
    "ExecuteTime": {
     "end_time": "2024-04-10T05:07:51.799390Z",
     "start_time": "2024-04-10T05:07:45.690571Z"
    }
   },
   "id": "initial_id",
   "execution_count": 1
  },
  {
   "cell_type": "code",
   "outputs": [
    {
     "name": "stdout",
     "output_type": "stream",
     "text": [
      "Data Types:\n",
      "holiday                 object\n",
      "temp                   float64\n",
      "rain_1h                float64\n",
      "snow_1h                float64\n",
      "clouds_all             float64\n",
      "weather_main            object\n",
      "weather_description     object\n",
      "date_time               object\n",
      "traffic_volume         float64\n",
      "Day_Week                 int64\n",
      "Weekend                  int64\n",
      "clouds_bin              object\n",
      "temp_interval           object\n",
      "dtype: object\n"
     ]
    }
   ],
   "source": [
    "import pandas as pd\n",
    "\n",
    "# Read the CSV file into a DataFrame\n",
    "df = pd.read_csv('eda_traffic.csv')\n",
    "\n",
    "# Display data types\n",
    "print(\"Data Types:\")\n",
    "print(df.dtypes)\n"
   ],
   "metadata": {
    "collapsed": false,
    "ExecuteTime": {
     "end_time": "2024-04-10T05:07:51.918692Z",
     "start_time": "2024-04-10T05:07:51.800394Z"
    }
   },
   "id": "67991c6f1e9c8901",
   "execution_count": 2
  },
  {
   "cell_type": "code",
   "outputs": [
    {
     "data": {
      "text/plain": "      holiday   temp  rain_1h  snow_1h  clouds_all  weather_main  \\\n0         NaN  15.13      0.0      0.0        40.0        Clouds   \n1         NaN  16.21      0.0      0.0        75.0        Clouds   \n2         NaN  16.43      0.0      0.0        90.0        Clouds   \n3         NaN  16.98      0.0      0.0        90.0        Clouds   \n4         NaN  17.99      0.0      0.0        75.0        Clouds   \n...       ...    ...      ...      ...         ...           ...   \n52546     NaN  10.30      0.0      0.0        75.0        Clouds   \n52547     NaN   9.61      0.0      0.0        90.0        Clouds   \n52548     NaN   9.58      0.0      0.0        90.0  Thunderstorm   \n52549     NaN   8.94      0.0      0.0        90.0        Clouds   \n52550     NaN   8.97      0.0      0.0        90.0        Clouds   \n\n          weather_description            date_time  traffic_volume  Day_Week  \\\n0            scattered clouds  2012-10-02 09:00:00          5545.0         1   \n1               broken clouds  2012-10-02 10:00:00          4516.0         1   \n2             overcast clouds  2012-10-02 11:00:00          4767.0         1   \n3             overcast clouds  2012-10-02 12:00:00          5026.0         1   \n4               broken clouds  2012-10-02 13:00:00          4918.0         1   \n...                       ...                  ...             ...       ...   \n52546           broken clouds  2018-09-30 19:00:00          3543.0         6   \n52547         overcast clouds  2018-09-30 20:00:00          2781.0         6   \n52548  proximity thunderstorm  2018-09-30 21:00:00          2159.0         6   \n52549         overcast clouds  2018-09-30 22:00:00          1450.0         6   \n52550         overcast clouds  2018-09-30 23:00:00           954.0         6   \n\n       Weekend clouds_bin temp_interval  \n0            0      21-40      10 to 19  \n1            0      61-80      10 to 19  \n2            0     81-100      10 to 19  \n3            0     81-100      10 to 19  \n4            0      61-80      10 to 19  \n...        ...        ...           ...  \n52546        1      61-80      10 to 19  \n52547        1     81-100        0 to 9  \n52548        1     81-100        0 to 9  \n52549        1     81-100        0 to 9  \n52550        1     81-100        0 to 9  \n\n[52551 rows x 13 columns]",
      "text/html": "<div>\n<style scoped>\n    .dataframe tbody tr th:only-of-type {\n        vertical-align: middle;\n    }\n\n    .dataframe tbody tr th {\n        vertical-align: top;\n    }\n\n    .dataframe thead th {\n        text-align: right;\n    }\n</style>\n<table border=\"1\" class=\"dataframe\">\n  <thead>\n    <tr style=\"text-align: right;\">\n      <th></th>\n      <th>holiday</th>\n      <th>temp</th>\n      <th>rain_1h</th>\n      <th>snow_1h</th>\n      <th>clouds_all</th>\n      <th>weather_main</th>\n      <th>weather_description</th>\n      <th>date_time</th>\n      <th>traffic_volume</th>\n      <th>Day_Week</th>\n      <th>Weekend</th>\n      <th>clouds_bin</th>\n      <th>temp_interval</th>\n    </tr>\n  </thead>\n  <tbody>\n    <tr>\n      <th>0</th>\n      <td>NaN</td>\n      <td>15.13</td>\n      <td>0.0</td>\n      <td>0.0</td>\n      <td>40.0</td>\n      <td>Clouds</td>\n      <td>scattered clouds</td>\n      <td>2012-10-02 09:00:00</td>\n      <td>5545.0</td>\n      <td>1</td>\n      <td>0</td>\n      <td>21-40</td>\n      <td>10 to 19</td>\n    </tr>\n    <tr>\n      <th>1</th>\n      <td>NaN</td>\n      <td>16.21</td>\n      <td>0.0</td>\n      <td>0.0</td>\n      <td>75.0</td>\n      <td>Clouds</td>\n      <td>broken clouds</td>\n      <td>2012-10-02 10:00:00</td>\n      <td>4516.0</td>\n      <td>1</td>\n      <td>0</td>\n      <td>61-80</td>\n      <td>10 to 19</td>\n    </tr>\n    <tr>\n      <th>2</th>\n      <td>NaN</td>\n      <td>16.43</td>\n      <td>0.0</td>\n      <td>0.0</td>\n      <td>90.0</td>\n      <td>Clouds</td>\n      <td>overcast clouds</td>\n      <td>2012-10-02 11:00:00</td>\n      <td>4767.0</td>\n      <td>1</td>\n      <td>0</td>\n      <td>81-100</td>\n      <td>10 to 19</td>\n    </tr>\n    <tr>\n      <th>3</th>\n      <td>NaN</td>\n      <td>16.98</td>\n      <td>0.0</td>\n      <td>0.0</td>\n      <td>90.0</td>\n      <td>Clouds</td>\n      <td>overcast clouds</td>\n      <td>2012-10-02 12:00:00</td>\n      <td>5026.0</td>\n      <td>1</td>\n      <td>0</td>\n      <td>81-100</td>\n      <td>10 to 19</td>\n    </tr>\n    <tr>\n      <th>4</th>\n      <td>NaN</td>\n      <td>17.99</td>\n      <td>0.0</td>\n      <td>0.0</td>\n      <td>75.0</td>\n      <td>Clouds</td>\n      <td>broken clouds</td>\n      <td>2012-10-02 13:00:00</td>\n      <td>4918.0</td>\n      <td>1</td>\n      <td>0</td>\n      <td>61-80</td>\n      <td>10 to 19</td>\n    </tr>\n    <tr>\n      <th>...</th>\n      <td>...</td>\n      <td>...</td>\n      <td>...</td>\n      <td>...</td>\n      <td>...</td>\n      <td>...</td>\n      <td>...</td>\n      <td>...</td>\n      <td>...</td>\n      <td>...</td>\n      <td>...</td>\n      <td>...</td>\n      <td>...</td>\n    </tr>\n    <tr>\n      <th>52546</th>\n      <td>NaN</td>\n      <td>10.30</td>\n      <td>0.0</td>\n      <td>0.0</td>\n      <td>75.0</td>\n      <td>Clouds</td>\n      <td>broken clouds</td>\n      <td>2018-09-30 19:00:00</td>\n      <td>3543.0</td>\n      <td>6</td>\n      <td>1</td>\n      <td>61-80</td>\n      <td>10 to 19</td>\n    </tr>\n    <tr>\n      <th>52547</th>\n      <td>NaN</td>\n      <td>9.61</td>\n      <td>0.0</td>\n      <td>0.0</td>\n      <td>90.0</td>\n      <td>Clouds</td>\n      <td>overcast clouds</td>\n      <td>2018-09-30 20:00:00</td>\n      <td>2781.0</td>\n      <td>6</td>\n      <td>1</td>\n      <td>81-100</td>\n      <td>0 to 9</td>\n    </tr>\n    <tr>\n      <th>52548</th>\n      <td>NaN</td>\n      <td>9.58</td>\n      <td>0.0</td>\n      <td>0.0</td>\n      <td>90.0</td>\n      <td>Thunderstorm</td>\n      <td>proximity thunderstorm</td>\n      <td>2018-09-30 21:00:00</td>\n      <td>2159.0</td>\n      <td>6</td>\n      <td>1</td>\n      <td>81-100</td>\n      <td>0 to 9</td>\n    </tr>\n    <tr>\n      <th>52549</th>\n      <td>NaN</td>\n      <td>8.94</td>\n      <td>0.0</td>\n      <td>0.0</td>\n      <td>90.0</td>\n      <td>Clouds</td>\n      <td>overcast clouds</td>\n      <td>2018-09-30 22:00:00</td>\n      <td>1450.0</td>\n      <td>6</td>\n      <td>1</td>\n      <td>81-100</td>\n      <td>0 to 9</td>\n    </tr>\n    <tr>\n      <th>52550</th>\n      <td>NaN</td>\n      <td>8.97</td>\n      <td>0.0</td>\n      <td>0.0</td>\n      <td>90.0</td>\n      <td>Clouds</td>\n      <td>overcast clouds</td>\n      <td>2018-09-30 23:00:00</td>\n      <td>954.0</td>\n      <td>6</td>\n      <td>1</td>\n      <td>81-100</td>\n      <td>0 to 9</td>\n    </tr>\n  </tbody>\n</table>\n<p>52551 rows × 13 columns</p>\n</div>"
     },
     "execution_count": 3,
     "metadata": {},
     "output_type": "execute_result"
    }
   ],
   "source": [
    "df"
   ],
   "metadata": {
    "collapsed": false,
    "ExecuteTime": {
     "end_time": "2024-04-10T05:07:51.953256Z",
     "start_time": "2024-04-10T05:07:51.918692Z"
    }
   },
   "id": "aab861782ef65797",
   "execution_count": 3
  },
  {
   "cell_type": "code",
   "outputs": [
    {
     "data": {
      "text/plain": "(52551, 13)"
     },
     "execution_count": 4,
     "metadata": {},
     "output_type": "execute_result"
    }
   ],
   "source": [
    "df.shape"
   ],
   "metadata": {
    "collapsed": false,
    "ExecuteTime": {
     "end_time": "2024-04-10T05:07:51.959604Z",
     "start_time": "2024-04-10T05:07:51.954731Z"
    }
   },
   "id": "ef6c0839d633cdfb",
   "execution_count": 4
  },
  {
   "cell_type": "markdown",
   "source": [
    "# Remove Duplicate Rows (4.2.2.3.3)"
   ],
   "metadata": {
    "collapsed": false
   },
   "id": "ac38c111a39caf00"
  },
  {
   "cell_type": "code",
   "outputs": [],
   "source": [
    "# Drop duplicates and keep the first occurrence\n",
    "df.drop_duplicates(keep='first', inplace=True)"
   ],
   "metadata": {
    "collapsed": false,
    "ExecuteTime": {
     "end_time": "2024-04-10T05:07:52.026176Z",
     "start_time": "2024-04-10T05:07:51.961071Z"
    }
   },
   "id": "e4801484c891892d",
   "execution_count": 5
  },
  {
   "cell_type": "markdown",
   "source": [
    "# Outlier (4.2.2.3.5)\n",
    " 1. Temperature\n",
    " 2. Rain"
   ],
   "metadata": {
    "collapsed": false
   },
   "id": "c09c804a24480114"
  },
  {
   "cell_type": "code",
   "outputs": [
    {
     "data": {
      "text/plain": "                 date_time    temp\n11658  2014-01-31 03:00:00 -273.15\n11659  2014-01-31 04:00:00 -273.15\n11660  2014-01-31 05:00:00 -273.15\n11661  2014-01-31 06:00:00 -273.15\n11706  2014-02-02 03:00:00 -273.15\n11707  2014-02-02 04:00:00 -273.15\n11708  2014-02-02 05:00:00 -273.15\n11709  2014-02-02 06:00:00 -273.15\n11710  2014-02-02 07:00:00 -273.15\n11711  2014-02-02 08:00:00 -273.15",
      "text/html": "<div>\n<style scoped>\n    .dataframe tbody tr th:only-of-type {\n        vertical-align: middle;\n    }\n\n    .dataframe tbody tr th {\n        vertical-align: top;\n    }\n\n    .dataframe thead th {\n        text-align: right;\n    }\n</style>\n<table border=\"1\" class=\"dataframe\">\n  <thead>\n    <tr style=\"text-align: right;\">\n      <th></th>\n      <th>date_time</th>\n      <th>temp</th>\n    </tr>\n  </thead>\n  <tbody>\n    <tr>\n      <th>11658</th>\n      <td>2014-01-31 03:00:00</td>\n      <td>-273.15</td>\n    </tr>\n    <tr>\n      <th>11659</th>\n      <td>2014-01-31 04:00:00</td>\n      <td>-273.15</td>\n    </tr>\n    <tr>\n      <th>11660</th>\n      <td>2014-01-31 05:00:00</td>\n      <td>-273.15</td>\n    </tr>\n    <tr>\n      <th>11661</th>\n      <td>2014-01-31 06:00:00</td>\n      <td>-273.15</td>\n    </tr>\n    <tr>\n      <th>11706</th>\n      <td>2014-02-02 03:00:00</td>\n      <td>-273.15</td>\n    </tr>\n    <tr>\n      <th>11707</th>\n      <td>2014-02-02 04:00:00</td>\n      <td>-273.15</td>\n    </tr>\n    <tr>\n      <th>11708</th>\n      <td>2014-02-02 05:00:00</td>\n      <td>-273.15</td>\n    </tr>\n    <tr>\n      <th>11709</th>\n      <td>2014-02-02 06:00:00</td>\n      <td>-273.15</td>\n    </tr>\n    <tr>\n      <th>11710</th>\n      <td>2014-02-02 07:00:00</td>\n      <td>-273.15</td>\n    </tr>\n    <tr>\n      <th>11711</th>\n      <td>2014-02-02 08:00:00</td>\n      <td>-273.15</td>\n    </tr>\n  </tbody>\n</table>\n</div>"
     },
     "execution_count": 6,
     "metadata": {},
     "output_type": "execute_result"
    }
   ],
   "source": [
    "filtered_df = df[df['temp'] < -30][['date_time', 'temp']]\n",
    "filtered_df"
   ],
   "metadata": {
    "collapsed": false,
    "ExecuteTime": {
     "end_time": "2024-04-10T05:07:52.039140Z",
     "start_time": "2024-04-10T05:07:52.026679Z"
    }
   },
   "id": "cbc2f2fa1c7ae3ae",
   "execution_count": 6
  },
  {
   "cell_type": "code",
   "outputs": [],
   "source": [
    "# Create a new DataFrame 'abc' as a copy of the original DataFrame 'df'\n",
    "abc = df.copy()\n",
    "\n",
    "# Assuming 'abc' is your DataFrame containing temperature data\n",
    "# Convert 'date_time' column to datetime format if needed\n",
    "abc['date_time'] = pd.to_datetime(abc['date_time'])\n",
    "\n",
    "# Sort the DataFrame by 'date_time' to ensure sequential order\n",
    "abc.sort_values(by='date_time', inplace=True)\n",
    "\n",
    "# List of dates with outliers in temperature\n",
    "dates_with_outliers = ['2014-01-31 03:00:00', '2014-01-31 04:00:00', '2014-01-31 05:00:00', '2014-01-31 06:00:00', '2014-02-02 03:00:00','2014-02-02 04:00:00','2014-02-02 05:00:00','2014-02-02 06:00:00','2014-02-02 07:00:00','2014-02-02 08:00:00']\n",
    "\n",
    "# Iterate over each date in the list\n",
    "for date in dates_with_outliers:\n",
    "    # Find the index of the row with the specified date in the DataFrame 'abc'\n",
    "    row_index = abc.index[abc['date_time'] == pd.to_datetime(date)]\n",
    "    \n",
    "    # Check if the row exists\n",
    "    if len(row_index) > 0:\n",
    "        # Get the index of the previous hour\n",
    "        prev_hour_index = row_index[0] - 1\n",
    "        \n",
    "        # Check if the previous hour index is valid\n",
    "        if prev_hour_index >= 0:\n",
    "            # Replace the temperature value in DataFrame 'abc' with the value from the previous hour\n",
    "            abc.at[row_index[0], 'temp'] = abc.at[prev_hour_index, 'temp']\n"
   ],
   "metadata": {
    "collapsed": false,
    "ExecuteTime": {
     "end_time": "2024-04-10T05:07:52.101799Z",
     "start_time": "2024-04-10T05:07:52.040141Z"
    }
   },
   "id": "2ecb1b66803038c4",
   "execution_count": 7
  },
  {
   "cell_type": "code",
   "outputs": [
    {
     "data": {
      "text/plain": "                date_time   temp\n11703 2014-02-02 00:00:00 -17.56\n11704 2014-02-02 01:00:00 -17.67\n11705 2014-02-02 02:00:00 -17.78\n11706 2014-02-02 03:00:00 -17.78\n11707 2014-02-02 04:00:00 -17.78\n11708 2014-02-02 05:00:00 -17.78\n11709 2014-02-02 06:00:00 -17.78\n11710 2014-02-02 07:00:00 -17.78\n11711 2014-02-02 08:00:00 -17.78\n11712 2014-02-02 09:00:00 -17.53\n11713 2014-02-02 10:00:00 -16.11\n11714 2014-02-02 11:00:00 -14.98\n11715 2014-02-02 12:00:00 -12.76\n11716 2014-02-02 13:00:00 -11.96\n11717 2014-02-02 14:00:00 -11.19\n11718 2014-02-02 15:00:00 -10.94\n11719 2014-02-02 16:00:00 -11.03\n11720 2014-02-02 17:00:00 -11.89\n11721 2014-02-02 18:00:00 -13.65\n11722 2014-02-02 19:00:00 -15.09\n11723 2014-02-02 20:00:00 -15.95\n11724 2014-02-02 21:00:00 -16.18\n11725 2014-02-02 22:00:00 -16.49\n11726 2014-02-02 23:00:00 -16.15",
      "text/html": "<div>\n<style scoped>\n    .dataframe tbody tr th:only-of-type {\n        vertical-align: middle;\n    }\n\n    .dataframe tbody tr th {\n        vertical-align: top;\n    }\n\n    .dataframe thead th {\n        text-align: right;\n    }\n</style>\n<table border=\"1\" class=\"dataframe\">\n  <thead>\n    <tr style=\"text-align: right;\">\n      <th></th>\n      <th>date_time</th>\n      <th>temp</th>\n    </tr>\n  </thead>\n  <tbody>\n    <tr>\n      <th>11703</th>\n      <td>2014-02-02 00:00:00</td>\n      <td>-17.56</td>\n    </tr>\n    <tr>\n      <th>11704</th>\n      <td>2014-02-02 01:00:00</td>\n      <td>-17.67</td>\n    </tr>\n    <tr>\n      <th>11705</th>\n      <td>2014-02-02 02:00:00</td>\n      <td>-17.78</td>\n    </tr>\n    <tr>\n      <th>11706</th>\n      <td>2014-02-02 03:00:00</td>\n      <td>-17.78</td>\n    </tr>\n    <tr>\n      <th>11707</th>\n      <td>2014-02-02 04:00:00</td>\n      <td>-17.78</td>\n    </tr>\n    <tr>\n      <th>11708</th>\n      <td>2014-02-02 05:00:00</td>\n      <td>-17.78</td>\n    </tr>\n    <tr>\n      <th>11709</th>\n      <td>2014-02-02 06:00:00</td>\n      <td>-17.78</td>\n    </tr>\n    <tr>\n      <th>11710</th>\n      <td>2014-02-02 07:00:00</td>\n      <td>-17.78</td>\n    </tr>\n    <tr>\n      <th>11711</th>\n      <td>2014-02-02 08:00:00</td>\n      <td>-17.78</td>\n    </tr>\n    <tr>\n      <th>11712</th>\n      <td>2014-02-02 09:00:00</td>\n      <td>-17.53</td>\n    </tr>\n    <tr>\n      <th>11713</th>\n      <td>2014-02-02 10:00:00</td>\n      <td>-16.11</td>\n    </tr>\n    <tr>\n      <th>11714</th>\n      <td>2014-02-02 11:00:00</td>\n      <td>-14.98</td>\n    </tr>\n    <tr>\n      <th>11715</th>\n      <td>2014-02-02 12:00:00</td>\n      <td>-12.76</td>\n    </tr>\n    <tr>\n      <th>11716</th>\n      <td>2014-02-02 13:00:00</td>\n      <td>-11.96</td>\n    </tr>\n    <tr>\n      <th>11717</th>\n      <td>2014-02-02 14:00:00</td>\n      <td>-11.19</td>\n    </tr>\n    <tr>\n      <th>11718</th>\n      <td>2014-02-02 15:00:00</td>\n      <td>-10.94</td>\n    </tr>\n    <tr>\n      <th>11719</th>\n      <td>2014-02-02 16:00:00</td>\n      <td>-11.03</td>\n    </tr>\n    <tr>\n      <th>11720</th>\n      <td>2014-02-02 17:00:00</td>\n      <td>-11.89</td>\n    </tr>\n    <tr>\n      <th>11721</th>\n      <td>2014-02-02 18:00:00</td>\n      <td>-13.65</td>\n    </tr>\n    <tr>\n      <th>11722</th>\n      <td>2014-02-02 19:00:00</td>\n      <td>-15.09</td>\n    </tr>\n    <tr>\n      <th>11723</th>\n      <td>2014-02-02 20:00:00</td>\n      <td>-15.95</td>\n    </tr>\n    <tr>\n      <th>11724</th>\n      <td>2014-02-02 21:00:00</td>\n      <td>-16.18</td>\n    </tr>\n    <tr>\n      <th>11725</th>\n      <td>2014-02-02 22:00:00</td>\n      <td>-16.49</td>\n    </tr>\n    <tr>\n      <th>11726</th>\n      <td>2014-02-02 23:00:00</td>\n      <td>-16.15</td>\n    </tr>\n  </tbody>\n</table>\n</div>"
     },
     "execution_count": 8,
     "metadata": {},
     "output_type": "execute_result"
    }
   ],
   "source": [
    "abc['date_time'] = pd.to_datetime(abc['date_time'])\n",
    "\n",
    "# Extract date from 'date_time' column\n",
    "abc['date_only'] = abc['date_time'].dt.date\n",
    "\n",
    "# Search for rows with a specific date\n",
    "search_date = pd.to_datetime('2014-02-02').date() \n",
    "result_df = abc[abc['date_only'] == search_date]\n",
    "\n",
    "result_df[['date_time', 'temp']]"
   ],
   "metadata": {
    "collapsed": false,
    "ExecuteTime": {
     "end_time": "2024-04-10T05:07:52.153135Z",
     "start_time": "2024-04-10T05:07:52.104801Z"
    }
   },
   "id": "f8af4baed8fbfd6e",
   "execution_count": 8
  },
  {
   "cell_type": "code",
   "outputs": [],
   "source": [
    "# Define the extreme threshold for heavy rainfall\n",
    "extreme_threshold = 31.3\n",
    "\n",
    "# Loop through each date in the DataFrame\n",
    "for date in abc['date_time']:\n",
    "    # Find the index of the current date\n",
    "    index = abc.index[abc['date_time'] == date].tolist()[0]\n",
    "    \n",
    "    # Check if the rainfall value exceeds the extreme threshold\n",
    "    if abc.loc[index, 'rain_1h'] > extreme_threshold:\n",
    "        # Set the rainfall value to the extreme threshold\n",
    "        abc.loc[index, 'rain_1h'] = extreme_threshold\n"
   ],
   "metadata": {
    "collapsed": false,
    "ExecuteTime": {
     "end_time": "2024-04-10T05:08:05.501934Z",
     "start_time": "2024-04-10T05:07:52.154137Z"
    }
   },
   "id": "5b2a218fa008fded",
   "execution_count": 9
  },
  {
   "cell_type": "code",
   "outputs": [
    {
     "data": {
      "text/plain": "      holiday   temp  rain_1h  snow_1h  clouds_all weather_main  \\\n6362      NaN  22.67     31.3      0.0        76.0         Rain   \n7409      NaN  15.95     31.3      0.0        68.0         Rain   \n33080     NaN  28.96     31.3      0.0        75.0         Rain   \n33944     NaN  24.56     31.3      0.0         0.0         Rain   \n\n      weather_description           date_time  traffic_volume  Day_Week  \\\n6362      very heavy rain 2013-06-24 11:00:00          4802.0         0   \n7409      very heavy rain 2013-08-07 02:00:00           315.0         2   \n33080     very heavy rain 2016-07-11 17:00:00          5535.0         0   \n33944     very heavy rain 2016-08-16 17:00:00          4913.0         1   \n\n       Weekend clouds_bin temp_interval   date_only  \n6362         1      61-80      20 to 29  2013-06-24  \n7409         0      61-80      10 to 19  2013-08-07  \n33080        1      61-80      20 to 29  2016-07-11  \n33944        0        NaN      20 to 29  2016-08-16  ",
      "text/html": "<div>\n<style scoped>\n    .dataframe tbody tr th:only-of-type {\n        vertical-align: middle;\n    }\n\n    .dataframe tbody tr th {\n        vertical-align: top;\n    }\n\n    .dataframe thead th {\n        text-align: right;\n    }\n</style>\n<table border=\"1\" class=\"dataframe\">\n  <thead>\n    <tr style=\"text-align: right;\">\n      <th></th>\n      <th>holiday</th>\n      <th>temp</th>\n      <th>rain_1h</th>\n      <th>snow_1h</th>\n      <th>clouds_all</th>\n      <th>weather_main</th>\n      <th>weather_description</th>\n      <th>date_time</th>\n      <th>traffic_volume</th>\n      <th>Day_Week</th>\n      <th>Weekend</th>\n      <th>clouds_bin</th>\n      <th>temp_interval</th>\n      <th>date_only</th>\n    </tr>\n  </thead>\n  <tbody>\n    <tr>\n      <th>6362</th>\n      <td>NaN</td>\n      <td>22.67</td>\n      <td>31.3</td>\n      <td>0.0</td>\n      <td>76.0</td>\n      <td>Rain</td>\n      <td>very heavy rain</td>\n      <td>2013-06-24 11:00:00</td>\n      <td>4802.0</td>\n      <td>0</td>\n      <td>1</td>\n      <td>61-80</td>\n      <td>20 to 29</td>\n      <td>2013-06-24</td>\n    </tr>\n    <tr>\n      <th>7409</th>\n      <td>NaN</td>\n      <td>15.95</td>\n      <td>31.3</td>\n      <td>0.0</td>\n      <td>68.0</td>\n      <td>Rain</td>\n      <td>very heavy rain</td>\n      <td>2013-08-07 02:00:00</td>\n      <td>315.0</td>\n      <td>2</td>\n      <td>0</td>\n      <td>61-80</td>\n      <td>10 to 19</td>\n      <td>2013-08-07</td>\n    </tr>\n    <tr>\n      <th>33080</th>\n      <td>NaN</td>\n      <td>28.96</td>\n      <td>31.3</td>\n      <td>0.0</td>\n      <td>75.0</td>\n      <td>Rain</td>\n      <td>very heavy rain</td>\n      <td>2016-07-11 17:00:00</td>\n      <td>5535.0</td>\n      <td>0</td>\n      <td>1</td>\n      <td>61-80</td>\n      <td>20 to 29</td>\n      <td>2016-07-11</td>\n    </tr>\n    <tr>\n      <th>33944</th>\n      <td>NaN</td>\n      <td>24.56</td>\n      <td>31.3</td>\n      <td>0.0</td>\n      <td>0.0</td>\n      <td>Rain</td>\n      <td>very heavy rain</td>\n      <td>2016-08-16 17:00:00</td>\n      <td>4913.0</td>\n      <td>1</td>\n      <td>0</td>\n      <td>NaN</td>\n      <td>20 to 29</td>\n      <td>2016-08-16</td>\n    </tr>\n  </tbody>\n</table>\n</div>"
     },
     "execution_count": 10,
     "metadata": {},
     "output_type": "execute_result"
    }
   ],
   "source": [
    "# Rainfall greater than 30mm \n",
    "\n",
    "abc[abc['rain_1h'] > 30]"
   ],
   "metadata": {
    "collapsed": false,
    "ExecuteTime": {
     "end_time": "2024-04-10T05:08:05.518353Z",
     "start_time": "2024-04-10T05:08:05.502935Z"
    }
   },
   "id": "ec7306ae548e6089",
   "execution_count": 10
  },
  {
   "cell_type": "markdown",
   "source": [
    "# Missing Value ( 4.2.2.3.2 and 4.2.2.3.9 )"
   ],
   "metadata": {
    "collapsed": false
   },
   "id": "8eec9c9f8b39bc34"
  },
  {
   "cell_type": "code",
   "outputs": [
    {
     "data": {
      "text/plain": "holiday                51279\ntemp                   11976\nrain_1h                11976\nsnow_1h                11976\nclouds_all             11976\nweather_main           11976\nweather_description    11976\ndate_time                  0\ntraffic_volume         11976\nDay_Week                   0\nWeekend                    0\nclouds_bin             13940\ntemp_interval          11986\ndate_only                  0\ndtype: int64"
     },
     "execution_count": 11,
     "metadata": {},
     "output_type": "execute_result"
    }
   ],
   "source": [
    "\n",
    "abc.isnull().sum()"
   ],
   "metadata": {
    "collapsed": false,
    "ExecuteTime": {
     "end_time": "2024-04-10T05:08:05.544040Z",
     "start_time": "2024-04-10T05:08:05.521359Z"
    }
   },
   "id": "b73a6ae2a26a7517",
   "execution_count": 11
  },
  {
   "cell_type": "code",
   "outputs": [
    {
     "name": "stderr",
     "output_type": "stream",
     "text": [
      "C:\\Users\\Hp\\AppData\\Local\\Temp\\ipykernel_4748\\1294668505.py:8: SettingWithCopyWarning: \n",
      "A value is trying to be set on a copy of a slice from a DataFrame\n",
      "\n",
      "See the caveats in the documentation: https://pandas.pydata.org/pandas-docs/stable/user_guide/indexing.html#returning-a-view-versus-a-copy\n",
      "  abc1.drop(columns=['clouds_bin', 'temp_interval', 'date_only'], inplace=True)\n"
     ]
    }
   ],
   "source": [
    "# Define the date range for filtering\n",
    "start_date = '2014-08-08'\n",
    "end_date = '2015-07-01'\n",
    "\n",
    "# Filter rows based on the date range\n",
    "abc1 = abc[(abc['date_time'] <= start_date) | (abc['date_time'] >= end_date)]\n",
    "# Drop columns 'clouds_bin', 'temp_interval', and 'date_only' from DataFrame 'abc1'\n",
    "abc1.drop(columns=['clouds_bin', 'temp_interval', 'date_only'], inplace=True)"
   ],
   "metadata": {
    "collapsed": false,
    "ExecuteTime": {
     "end_time": "2024-04-10T05:08:05.563504Z",
     "start_time": "2024-04-10T05:08:05.547042Z"
    }
   },
   "id": "ffceff45e4c4e70",
   "execution_count": 12
  },
  {
   "cell_type": "code",
   "outputs": [
    {
     "data": {
      "text/plain": "holiday                43432\ntemp                    4279\nrain_1h                 4279\nsnow_1h                 4279\nclouds_all              4279\nweather_main            4279\nweather_description     4279\ndate_time                  0\ntraffic_volume          4279\nDay_Week                   0\nWeekend                    0\ndtype: int64"
     },
     "execution_count": 13,
     "metadata": {},
     "output_type": "execute_result"
    }
   ],
   "source": [
    "abc1.isnull().sum()"
   ],
   "metadata": {
    "collapsed": false,
    "ExecuteTime": {
     "end_time": "2024-04-10T05:08:05.576721Z",
     "start_time": "2024-04-10T05:08:05.564506Z"
    }
   },
   "id": "811ee33d140b1b64",
   "execution_count": 13
  },
  {
   "cell_type": "code",
   "outputs": [
    {
     "name": "stderr",
     "output_type": "stream",
     "text": [
      "C:\\Users\\Hp\\AppData\\Local\\Temp\\ipykernel_4748\\599509671.py:4: SettingWithCopyWarning: \n",
      "A value is trying to be set on a copy of a slice from a DataFrame.\n",
      "Try using .loc[row_indexer,col_indexer] = value instead\n",
      "\n",
      "See the caveats in the documentation: https://pandas.pydata.org/pandas-docs/stable/user_guide/indexing.html#returning-a-view-versus-a-copy\n",
      "  abc1[['temp', 'rain_1h', 'snow_1h', 'clouds_all', 'traffic_volume']] = abc1[['temp', 'rain_1h', 'snow_1h', 'clouds_all', 'traffic_volume']].interpolate(method='time', axis=0, limit_direction='backward')\n",
      "C:\\Users\\Hp\\AppData\\Local\\Temp\\ipykernel_4748\\599509671.py:7: SettingWithCopyWarning: \n",
      "A value is trying to be set on a copy of a slice from a DataFrame.\n",
      "Try using .loc[row_indexer,col_indexer] = value instead\n",
      "\n",
      "See the caveats in the documentation: https://pandas.pydata.org/pandas-docs/stable/user_guide/indexing.html#returning-a-view-versus-a-copy\n",
      "  abc1['weather_description'] = abc1['weather_description'].fillna(method='bfill')\n",
      "C:\\Users\\Hp\\AppData\\Local\\Temp\\ipykernel_4748\\599509671.py:8: SettingWithCopyWarning: \n",
      "A value is trying to be set on a copy of a slice from a DataFrame.\n",
      "Try using .loc[row_indexer,col_indexer] = value instead\n",
      "\n",
      "See the caveats in the documentation: https://pandas.pydata.org/pandas-docs/stable/user_guide/indexing.html#returning-a-view-versus-a-copy\n",
      "  abc1['weather_main'] = abc1['weather_main'].fillna(method='bfill')\n"
     ]
    }
   ],
   "source": [
    "abc1.index = pd.to_datetime(abc1['date_time']) # Ensure the index is datetime\n",
    "\n",
    "# Perform time-based interpolation and backward fill for missing values\n",
    "abc1[['temp', 'rain_1h', 'snow_1h', 'clouds_all', 'traffic_volume']] = abc1[['temp', 'rain_1h', 'snow_1h', 'clouds_all', 'traffic_volume']].interpolate(method='time', axis=0, limit_direction='backward')\n",
    "\n",
    "# Backfill missing categorical values in the 'weather_description' column\n",
    "abc1['weather_description'] = abc1['weather_description'].fillna(method='bfill')\n",
    "abc1['weather_main'] = abc1['weather_main'].fillna(method='bfill')"
   ],
   "metadata": {
    "collapsed": false,
    "ExecuteTime": {
     "end_time": "2024-04-10T05:08:05.617671Z",
     "start_time": "2024-04-10T05:08:05.577722Z"
    }
   },
   "id": "73dc543b255e022e",
   "execution_count": 14
  },
  {
   "cell_type": "code",
   "outputs": [
    {
     "data": {
      "text/plain": "holiday                43432\ntemp                       0\nrain_1h                    0\nsnow_1h                    0\nclouds_all                 0\nweather_main               0\nweather_description        0\ndate_time                  0\ntraffic_volume             0\nDay_Week                   0\nWeekend                    0\ndtype: int64"
     },
     "execution_count": 15,
     "metadata": {},
     "output_type": "execute_result"
    }
   ],
   "source": [
    "abc1.isnull().sum()"
   ],
   "metadata": {
    "collapsed": false,
    "ExecuteTime": {
     "end_time": "2024-04-10T05:08:05.628979Z",
     "start_time": "2024-04-10T05:08:05.618677Z"
    }
   },
   "id": "ace4945815edd3a8",
   "execution_count": 15
  },
  {
   "cell_type": "code",
   "outputs": [],
   "source": [
    "import pandas as pd\n",
    "\n",
    "# Use .loc to set the value without triggering the warning\n",
    "abc1.loc[abc1['date_time'] == '2016-01-18 00:00:00', 'holiday'] = 'Martin Luther King Jr Day'"
   ],
   "metadata": {
    "collapsed": false,
    "ExecuteTime": {
     "end_time": "2024-04-10T05:08:05.635234Z",
     "start_time": "2024-04-10T05:08:05.629986Z"
    }
   },
   "id": "40ed0b4cbb13937c",
   "execution_count": 16
  },
  {
   "cell_type": "code",
   "outputs": [],
   "source": [
    "# Find the indices of rows where the holiday is not \"None\" and is not NaN\n",
    "ind = abc1[(abc1['holiday'] != \"None\") & (~abc1['holiday'].isna())].index\n",
    "\n",
    "# Iterate over the indices\n",
    "for idx in ind:\n",
    "    # Extract the date part from the datetime\n",
    "    date_val = abc1.loc[idx, 'date_time'].date()\n",
    "    \n",
    "    # Update the 'holiday' column for the entire day with the holiday value\n",
    "    abc1.loc[abc1['date_time'].dt.date == date_val, 'holiday'] = abc1.loc[idx, 'holiday']\n",
    "\n",
    "# Use .loc to fill missing values in the 'holiday' column without triggering the warning\n",
    "abc1.loc[:, 'holiday'] = abc1['holiday'].fillna('None')"
   ],
   "metadata": {
    "collapsed": false,
    "ExecuteTime": {
     "end_time": "2024-04-10T05:08:18.443130Z",
     "start_time": "2024-04-10T05:08:05.636236Z"
    }
   },
   "id": "4d17d0fa442610a2",
   "execution_count": 17
  },
  {
   "cell_type": "code",
   "outputs": [],
   "source": [
    "abc1.loc[:, 'holiday'] = abc1['holiday'].fillna('None')\n"
   ],
   "metadata": {
    "collapsed": false,
    "ExecuteTime": {
     "end_time": "2024-04-10T05:08:18.450394Z",
     "start_time": "2024-04-10T05:08:18.444132Z"
    }
   },
   "id": "84cceb3789dddf10",
   "execution_count": 18
  },
  {
   "cell_type": "code",
   "outputs": [
    {
     "data": {
      "text/plain": "holiday                0\ntemp                   0\nrain_1h                0\nsnow_1h                0\nclouds_all             0\nweather_main           0\nweather_description    0\ndate_time              0\ntraffic_volume         0\nDay_Week               0\nWeekend                0\ndtype: int64"
     },
     "execution_count": 19,
     "metadata": {},
     "output_type": "execute_result"
    }
   ],
   "source": [
    "abc1.isnull().sum()\n"
   ],
   "metadata": {
    "collapsed": false,
    "ExecuteTime": {
     "end_time": "2024-04-10T05:08:18.466215Z",
     "start_time": "2024-04-10T05:08:18.451396Z"
    }
   },
   "id": "afb81ecece0e2b7f",
   "execution_count": 19
  },
  {
   "cell_type": "code",
   "outputs": [
    {
     "data": {
      "text/plain": "holiday\nNone                         43408\nColumbus Day                   120\nVeterans Day                   120\nThanksgiving Day               120\nChristmas Day                  120\nNew Years Day                  120\nWashingtons Birthday           120\nMemorial Day                   120\nIndependence Day               120\nState Fair                     120\nLabor Day                      120\nMartin Luther King Jr Day       96\nName: count, dtype: int64"
     },
     "execution_count": 20,
     "metadata": {},
     "output_type": "execute_result"
    }
   ],
   "source": [
    "abc1.holiday.value_counts()"
   ],
   "metadata": {
    "collapsed": false,
    "ExecuteTime": {
     "end_time": "2024-04-10T05:08:18.476199Z",
     "start_time": "2024-04-10T05:08:18.467217Z"
    }
   },
   "id": "ea4ecb051225e834",
   "execution_count": 20
  },
  {
   "cell_type": "code",
   "outputs": [
    {
     "data": {
      "text/plain": "Index(['holiday', 'weather_main', 'weather_description'], dtype='object')"
     },
     "execution_count": 21,
     "metadata": {},
     "output_type": "execute_result"
    }
   ],
   "source": [
    "abc1.select_dtypes('object').columns"
   ],
   "metadata": {
    "collapsed": false,
    "ExecuteTime": {
     "end_time": "2024-04-10T05:08:18.487407Z",
     "start_time": "2024-04-10T05:08:18.477201Z"
    }
   },
   "id": "3c4eb689d5940ac9",
   "execution_count": 21
  },
  {
   "cell_type": "code",
   "outputs": [],
   "source": [
    "abc1.to_csv('data_prep_traffic.csv', index=False)\n"
   ],
   "metadata": {
    "collapsed": false,
    "ExecuteTime": {
     "end_time": "2024-04-10T05:08:18.828648Z",
     "start_time": "2024-04-10T05:08:18.488408Z"
    }
   },
   "id": "27ad19e9e0f006a5",
   "execution_count": 22
  },
  {
   "cell_type": "markdown",
   "source": [
    "# Label Encoding"
   ],
   "metadata": {
    "collapsed": false
   },
   "id": "c303a8a481a6bdb"
  },
  {
   "cell_type": "markdown",
   "source": [
    "# (1) Weather Description"
   ],
   "metadata": {
    "collapsed": false
   },
   "id": "e8f9a44eed7310b"
  },
  {
   "cell_type": "code",
   "outputs": [],
   "source": [
    "abc1.loc[:, 'weather_description'] = abc1['weather_description'].map(lambda x: x.lower())\n",
    "\n",
    "# Create a copy of abc1 to avoid SettingWithCopyWarning\n",
    "abc2 = abc1.copy()\n",
    "abc2['weather_desc'] = abc2['weather_description']\n"
   ],
   "metadata": {
    "collapsed": false,
    "ExecuteTime": {
     "end_time": "2024-04-10T05:08:18.851474Z",
     "start_time": "2024-04-10T05:08:18.829654Z"
    }
   },
   "id": "56ed593006f2d0b1",
   "execution_count": 23
  },
  {
   "cell_type": "code",
   "outputs": [
    {
     "data": {
      "text/plain": "array(['scattered clouds', 'broken clouds', 'overcast clouds',\n       'sky is clear', 'few clouds', 'light rain',\n       'light intensity drizzle', 'mist', 'fog', 'proximity shower rain',\n       'moderate rain', 'drizzle', 'heavy intensity rain',\n       'proximity thunderstorm', 'haze', 'heavy snow',\n       'thunderstorm with light rain', 'snow', 'light rain and snow',\n       'light intensity shower rain', 'squalls',\n       'proximity thunderstorm with rain', 'thunderstorm with rain',\n       'thunderstorm with heavy rain', 'heavy intensity drizzle',\n       'very heavy rain', 'thunderstorm with light drizzle',\n       'thunderstorm', 'light snow', 'smoke', 'freezing rain',\n       'light shower snow', 'sleet',\n       'proximity thunderstorm with drizzle'], dtype=object)"
     },
     "execution_count": 24,
     "metadata": {},
     "output_type": "execute_result"
    }
   ],
   "source": [
    "abc1.weather_description.unique()"
   ],
   "metadata": {
    "collapsed": false,
    "ExecuteTime": {
     "end_time": "2024-04-10T05:08:18.860941Z",
     "start_time": "2024-04-10T05:08:18.852475Z"
    }
   },
   "id": "be98d37111b7b397",
   "execution_count": 24
  },
  {
   "cell_type": "code",
   "outputs": [],
   "source": [
    "abc2.loc[abc2['weather_desc'].str.contains('thunderstorm'), 'weather_desc'] = 'thunderstorm'\n",
    "abc2.loc[abc2['weather_desc'].str.contains('sky is clear'), 'weather_desc'] = 'clear'\n",
    "\n",
    "weather_type = ['clouds', 'rain', 'snow', 'fog', 'mist', 'haze', 'drizzle']\n",
    "for weather in weather_type:\n",
    "    abc2.loc[abc2['weather_desc'].str.contains(weather), 'weather_desc'] = weather\n",
    "\n",
    "abc2.loc[abc2['weather_desc'].str.contains('drizzle'), 'weather_desc'] = 'rain'\n",
    "abc2.loc[abc2['weather_desc'].str.contains('smoke'), 'weather_desc'] = 'haze'\n",
    "\n",
    "weather_types = ['squalls', 'sleet']\n",
    "for weather in weather_types:\n",
    "    abc2.loc[abc2['weather_desc'].str.contains(weather), 'weather_desc'] = 'other'\n"
   ],
   "metadata": {
    "collapsed": false,
    "ExecuteTime": {
     "end_time": "2024-04-10T05:08:19.098336Z",
     "start_time": "2024-04-10T05:08:18.861942Z"
    }
   },
   "id": "6d6dfc0296ab4176",
   "execution_count": 25
  },
  {
   "cell_type": "code",
   "outputs": [
    {
     "data": {
      "text/plain": "array(['clouds', 'clear', 'rain', 'mist', 'fog', 'thunderstorm', 'haze',\n       'snow', 'other'], dtype=object)"
     },
     "execution_count": 26,
     "metadata": {},
     "output_type": "execute_result"
    }
   ],
   "source": [
    "abc2.weather_desc.unique()"
   ],
   "metadata": {
    "collapsed": false,
    "ExecuteTime": {
     "end_time": "2024-04-10T05:08:19.105839Z",
     "start_time": "2024-04-10T05:08:19.099338Z"
    }
   },
   "id": "d423304a02046aef",
   "execution_count": 26
  },
  {
   "cell_type": "code",
   "outputs": [],
   "source": [
    "# Define a list of weather conditions considered as bad weather\n",
    "wea_bad = ['fog', 'thunderstorm', 'snow', 'other', 'rain', 'haze']\n",
    "\n",
    "# Define a custom function to binarize the weather condition into 'Good Weather' and 'Bad Weather'\n",
    "def weather_bin(df, col):\n",
    "    if df[col].isin(wea_bad):\n",
    "        return 'bad_weather'  # Return 'Bad Weather' if the weather condition is in 'wea_bad'\n",
    "    else:\n",
    "        return 'good_weather'  # Return 'Good Weather' if the weather condition is not in 'wea_bad'\n",
    "\n",
    "\n",
    "# Use numpy.where to binarize the weather condition into 'Good Weather' and 'Bad Weather'\n",
    "abc2['weather_bin'] = np.where(abc2['weather_desc'].isin(wea_bad), 'bad_weather', 'good_weather')"
   ],
   "metadata": {
    "collapsed": false,
    "ExecuteTime": {
     "end_time": "2024-04-10T05:08:19.121903Z",
     "start_time": "2024-04-10T05:08:19.106841Z"
    }
   },
   "id": "77729470297297bd",
   "execution_count": 27
  },
  {
   "cell_type": "code",
   "outputs": [
    {
     "data": {
      "text/plain": "weather_bin\ngood_weather    0.772593\nbad_weather     0.227407\nName: proportion, dtype: float64"
     },
     "execution_count": 28,
     "metadata": {},
     "output_type": "execute_result"
    }
   ],
   "source": [
    "abc2.weather_bin.value_counts(normalize=True)"
   ],
   "metadata": {
    "collapsed": false,
    "ExecuteTime": {
     "end_time": "2024-04-10T05:08:19.134122Z",
     "start_time": "2024-04-10T05:08:19.122905Z"
    }
   },
   "id": "9432513e6fe6bf96",
   "execution_count": 28
  },
  {
   "cell_type": "code",
   "outputs": [],
   "source": [],
   "metadata": {
    "collapsed": false,
    "ExecuteTime": {
     "end_time": "2024-04-10T05:08:19.138633Z",
     "start_time": "2024-04-10T05:08:19.136129Z"
    }
   },
   "id": "f1f5331a4c70d9ca",
   "execution_count": 28
  },
  {
   "cell_type": "markdown",
   "source": [
    "# (2) Snow"
   ],
   "metadata": {
    "collapsed": false
   },
   "id": "20db0290d9fd494"
  },
  {
   "cell_type": "code",
   "outputs": [
    {
     "data": {
      "text/plain": "                    holiday   temp  rain_1h  snow_1h  clouds_all weather_main  \\\ndate_time                                                                       \n2012-10-02 09:00:00    None  15.13      0.0      0.0        40.0       Clouds   \n2012-10-02 10:00:00    None  16.21      0.0      0.0        75.0       Clouds   \n2012-10-02 11:00:00    None  16.43      0.0      0.0        90.0       Clouds   \n2012-10-02 12:00:00    None  16.98      0.0      0.0        90.0       Clouds   \n2012-10-02 13:00:00    None  17.99      0.0      0.0        75.0       Clouds   \n\n                    weather_description           date_time  traffic_volume  \\\ndate_time                                                                     \n2012-10-02 09:00:00    scattered clouds 2012-10-02 09:00:00          5545.0   \n2012-10-02 10:00:00       broken clouds 2012-10-02 10:00:00          4516.0   \n2012-10-02 11:00:00     overcast clouds 2012-10-02 11:00:00          4767.0   \n2012-10-02 12:00:00     overcast clouds 2012-10-02 12:00:00          5026.0   \n2012-10-02 13:00:00       broken clouds 2012-10-02 13:00:00          4918.0   \n\n                     Day_Week  Weekend weather_desc   weather_bin snow_bin  \ndate_time                                                                   \n2012-10-02 09:00:00         1        0       clouds  good_weather  no_snow  \n2012-10-02 10:00:00         1        0       clouds  good_weather  no_snow  \n2012-10-02 11:00:00         1        0       clouds  good_weather  no_snow  \n2012-10-02 12:00:00         1        0       clouds  good_weather  no_snow  \n2012-10-02 13:00:00         1        0       clouds  good_weather  no_snow  ",
      "text/html": "<div>\n<style scoped>\n    .dataframe tbody tr th:only-of-type {\n        vertical-align: middle;\n    }\n\n    .dataframe tbody tr th {\n        vertical-align: top;\n    }\n\n    .dataframe thead th {\n        text-align: right;\n    }\n</style>\n<table border=\"1\" class=\"dataframe\">\n  <thead>\n    <tr style=\"text-align: right;\">\n      <th></th>\n      <th>holiday</th>\n      <th>temp</th>\n      <th>rain_1h</th>\n      <th>snow_1h</th>\n      <th>clouds_all</th>\n      <th>weather_main</th>\n      <th>weather_description</th>\n      <th>date_time</th>\n      <th>traffic_volume</th>\n      <th>Day_Week</th>\n      <th>Weekend</th>\n      <th>weather_desc</th>\n      <th>weather_bin</th>\n      <th>snow_bin</th>\n    </tr>\n    <tr>\n      <th>date_time</th>\n      <th></th>\n      <th></th>\n      <th></th>\n      <th></th>\n      <th></th>\n      <th></th>\n      <th></th>\n      <th></th>\n      <th></th>\n      <th></th>\n      <th></th>\n      <th></th>\n      <th></th>\n      <th></th>\n    </tr>\n  </thead>\n  <tbody>\n    <tr>\n      <th>2012-10-02 09:00:00</th>\n      <td>None</td>\n      <td>15.13</td>\n      <td>0.0</td>\n      <td>0.0</td>\n      <td>40.0</td>\n      <td>Clouds</td>\n      <td>scattered clouds</td>\n      <td>2012-10-02 09:00:00</td>\n      <td>5545.0</td>\n      <td>1</td>\n      <td>0</td>\n      <td>clouds</td>\n      <td>good_weather</td>\n      <td>no_snow</td>\n    </tr>\n    <tr>\n      <th>2012-10-02 10:00:00</th>\n      <td>None</td>\n      <td>16.21</td>\n      <td>0.0</td>\n      <td>0.0</td>\n      <td>75.0</td>\n      <td>Clouds</td>\n      <td>broken clouds</td>\n      <td>2012-10-02 10:00:00</td>\n      <td>4516.0</td>\n      <td>1</td>\n      <td>0</td>\n      <td>clouds</td>\n      <td>good_weather</td>\n      <td>no_snow</td>\n    </tr>\n    <tr>\n      <th>2012-10-02 11:00:00</th>\n      <td>None</td>\n      <td>16.43</td>\n      <td>0.0</td>\n      <td>0.0</td>\n      <td>90.0</td>\n      <td>Clouds</td>\n      <td>overcast clouds</td>\n      <td>2012-10-02 11:00:00</td>\n      <td>4767.0</td>\n      <td>1</td>\n      <td>0</td>\n      <td>clouds</td>\n      <td>good_weather</td>\n      <td>no_snow</td>\n    </tr>\n    <tr>\n      <th>2012-10-02 12:00:00</th>\n      <td>None</td>\n      <td>16.98</td>\n      <td>0.0</td>\n      <td>0.0</td>\n      <td>90.0</td>\n      <td>Clouds</td>\n      <td>overcast clouds</td>\n      <td>2012-10-02 12:00:00</td>\n      <td>5026.0</td>\n      <td>1</td>\n      <td>0</td>\n      <td>clouds</td>\n      <td>good_weather</td>\n      <td>no_snow</td>\n    </tr>\n    <tr>\n      <th>2012-10-02 13:00:00</th>\n      <td>None</td>\n      <td>17.99</td>\n      <td>0.0</td>\n      <td>0.0</td>\n      <td>75.0</td>\n      <td>Clouds</td>\n      <td>broken clouds</td>\n      <td>2012-10-02 13:00:00</td>\n      <td>4918.0</td>\n      <td>1</td>\n      <td>0</td>\n      <td>clouds</td>\n      <td>good_weather</td>\n      <td>no_snow</td>\n    </tr>\n  </tbody>\n</table>\n</div>"
     },
     "execution_count": 29,
     "metadata": {},
     "output_type": "execute_result"
    }
   ],
   "source": [
    "abc3 = abc2.copy()\n",
    "\n",
    "# Define a custom function to binarize the 'snow_1h' column\n",
    "def discretize_snow1h(x):\n",
    "    if x == 0:\n",
    "        return 'no_snow'\n",
    "    else:\n",
    "        return 'snow'\n",
    "\n",
    "# Apply the custom function to the 'snow_1h' column to create a new column 'snow_status'\n",
    "abc3['snow_bin'] = abc3['snow_1h'].apply(discretize_snow1h)\n",
    "abc3.head()"
   ],
   "metadata": {
    "collapsed": false,
    "ExecuteTime": {
     "end_time": "2024-04-10T05:08:19.176750Z",
     "start_time": "2024-04-10T05:08:19.139635Z"
    }
   },
   "id": "8f3b6078f5cd0087",
   "execution_count": 29
  },
  {
   "cell_type": "code",
   "outputs": [
    {
     "data": {
      "text/plain": "snow_bin\nno_snow    0.998814\nsnow       0.001186\nName: proportion, dtype: float64"
     },
     "execution_count": 30,
     "metadata": {},
     "output_type": "execute_result"
    }
   ],
   "source": [
    "abc3.snow_bin.value_counts(normalize=True)"
   ],
   "metadata": {
    "collapsed": false,
    "ExecuteTime": {
     "end_time": "2024-04-10T05:08:19.185709Z",
     "start_time": "2024-04-10T05:08:19.177752Z"
    }
   },
   "id": "30afa6dc0e077f1e",
   "execution_count": 30
  },
  {
   "cell_type": "code",
   "outputs": [],
   "source": [
    "#abc3.drop(columns='snow_1h').to_csv('traffic_snow_bin.csv')"
   ],
   "metadata": {
    "collapsed": false,
    "ExecuteTime": {
     "end_time": "2024-04-10T05:08:19.191367Z",
     "start_time": "2024-04-10T05:08:19.186711Z"
    }
   },
   "id": "2e508e738503a319",
   "execution_count": 31
  },
  {
   "cell_type": "markdown",
   "source": [
    "# (3) Holiday"
   ],
   "metadata": {
    "collapsed": false
   },
   "id": "d4809449fe6708e5"
  },
  {
   "cell_type": "code",
   "outputs": [
    {
     "data": {
      "text/plain": "holi\n0    43408\n1     1296\nName: count, dtype: int64"
     },
     "execution_count": 32,
     "metadata": {},
     "output_type": "execute_result"
    }
   ],
   "source": [
    "abc4 = abc3.copy()\n",
    "\n",
    "# Define a custom function to discretize the 'holiday' column into binary values\n",
    "def discretize_holiday(x):\n",
    "    if x == 'None':\n",
    "        return 0  # Assign 0 for 'None' (No Holiday)\n",
    "    else:\n",
    "        return 1  # Assign 1 for other values (Holiday)\n",
    "\n",
    "abc4['holi'] = abc4['holiday'].apply(discretize_holiday)\n",
    "\n",
    "abc4['holi'].value_counts()\n"
   ],
   "metadata": {
    "collapsed": false,
    "ExecuteTime": {
     "end_time": "2024-04-10T05:08:19.231727Z",
     "start_time": "2024-04-10T05:08:19.192368Z"
    }
   },
   "id": "ed33a5c690d2234",
   "execution_count": 32
  },
  {
   "cell_type": "code",
   "outputs": [
    {
     "data": {
      "text/plain": "                    holiday   temp  rain_1h  snow_1h  clouds_all  \\\ndate_time                                                          \n2012-10-02 09:00:00    None  15.13      0.0      0.0        40.0   \n2012-10-02 10:00:00    None  16.21      0.0      0.0        75.0   \n2012-10-02 11:00:00    None  16.43      0.0      0.0        90.0   \n2012-10-02 12:00:00    None  16.98      0.0      0.0        90.0   \n2012-10-02 13:00:00    None  17.99      0.0      0.0        75.0   \n...                     ...    ...      ...      ...         ...   \n2018-09-30 19:00:00    None  10.30      0.0      0.0        75.0   \n2018-09-30 20:00:00    None   9.61      0.0      0.0        90.0   \n2018-09-30 21:00:00    None   9.58      0.0      0.0        90.0   \n2018-09-30 22:00:00    None   8.94      0.0      0.0        90.0   \n2018-09-30 23:00:00    None   8.97      0.0      0.0        90.0   \n\n                     weather_main     weather_description           date_time  \\\ndate_time                                                                       \n2012-10-02 09:00:00        Clouds        scattered clouds 2012-10-02 09:00:00   \n2012-10-02 10:00:00        Clouds           broken clouds 2012-10-02 10:00:00   \n2012-10-02 11:00:00        Clouds         overcast clouds 2012-10-02 11:00:00   \n2012-10-02 12:00:00        Clouds         overcast clouds 2012-10-02 12:00:00   \n2012-10-02 13:00:00        Clouds           broken clouds 2012-10-02 13:00:00   \n...                           ...                     ...                 ...   \n2018-09-30 19:00:00        Clouds           broken clouds 2018-09-30 19:00:00   \n2018-09-30 20:00:00        Clouds         overcast clouds 2018-09-30 20:00:00   \n2018-09-30 21:00:00  Thunderstorm  proximity thunderstorm 2018-09-30 21:00:00   \n2018-09-30 22:00:00        Clouds         overcast clouds 2018-09-30 22:00:00   \n2018-09-30 23:00:00        Clouds         overcast clouds 2018-09-30 23:00:00   \n\n                     traffic_volume  Day_Week  Weekend  weather_desc  \\\ndate_time                                                              \n2012-10-02 09:00:00          5545.0         1        0        clouds   \n2012-10-02 10:00:00          4516.0         1        0        clouds   \n2012-10-02 11:00:00          4767.0         1        0        clouds   \n2012-10-02 12:00:00          5026.0         1        0        clouds   \n2012-10-02 13:00:00          4918.0         1        0        clouds   \n...                             ...       ...      ...           ...   \n2018-09-30 19:00:00          3543.0         6        1        clouds   \n2018-09-30 20:00:00          2781.0         6        1        clouds   \n2018-09-30 21:00:00          2159.0         6        1  thunderstorm   \n2018-09-30 22:00:00          1450.0         6        1        clouds   \n2018-09-30 23:00:00           954.0         6        1        clouds   \n\n                      weather_bin snow_bin  holi  \ndate_time                                         \n2012-10-02 09:00:00  good_weather  no_snow     0  \n2012-10-02 10:00:00  good_weather  no_snow     0  \n2012-10-02 11:00:00  good_weather  no_snow     0  \n2012-10-02 12:00:00  good_weather  no_snow     0  \n2012-10-02 13:00:00  good_weather  no_snow     0  \n...                           ...      ...   ...  \n2018-09-30 19:00:00  good_weather  no_snow     0  \n2018-09-30 20:00:00  good_weather  no_snow     0  \n2018-09-30 21:00:00   bad_weather  no_snow     0  \n2018-09-30 22:00:00  good_weather  no_snow     0  \n2018-09-30 23:00:00  good_weather  no_snow     0  \n\n[44704 rows x 15 columns]",
      "text/html": "<div>\n<style scoped>\n    .dataframe tbody tr th:only-of-type {\n        vertical-align: middle;\n    }\n\n    .dataframe tbody tr th {\n        vertical-align: top;\n    }\n\n    .dataframe thead th {\n        text-align: right;\n    }\n</style>\n<table border=\"1\" class=\"dataframe\">\n  <thead>\n    <tr style=\"text-align: right;\">\n      <th></th>\n      <th>holiday</th>\n      <th>temp</th>\n      <th>rain_1h</th>\n      <th>snow_1h</th>\n      <th>clouds_all</th>\n      <th>weather_main</th>\n      <th>weather_description</th>\n      <th>date_time</th>\n      <th>traffic_volume</th>\n      <th>Day_Week</th>\n      <th>Weekend</th>\n      <th>weather_desc</th>\n      <th>weather_bin</th>\n      <th>snow_bin</th>\n      <th>holi</th>\n    </tr>\n    <tr>\n      <th>date_time</th>\n      <th></th>\n      <th></th>\n      <th></th>\n      <th></th>\n      <th></th>\n      <th></th>\n      <th></th>\n      <th></th>\n      <th></th>\n      <th></th>\n      <th></th>\n      <th></th>\n      <th></th>\n      <th></th>\n      <th></th>\n    </tr>\n  </thead>\n  <tbody>\n    <tr>\n      <th>2012-10-02 09:00:00</th>\n      <td>None</td>\n      <td>15.13</td>\n      <td>0.0</td>\n      <td>0.0</td>\n      <td>40.0</td>\n      <td>Clouds</td>\n      <td>scattered clouds</td>\n      <td>2012-10-02 09:00:00</td>\n      <td>5545.0</td>\n      <td>1</td>\n      <td>0</td>\n      <td>clouds</td>\n      <td>good_weather</td>\n      <td>no_snow</td>\n      <td>0</td>\n    </tr>\n    <tr>\n      <th>2012-10-02 10:00:00</th>\n      <td>None</td>\n      <td>16.21</td>\n      <td>0.0</td>\n      <td>0.0</td>\n      <td>75.0</td>\n      <td>Clouds</td>\n      <td>broken clouds</td>\n      <td>2012-10-02 10:00:00</td>\n      <td>4516.0</td>\n      <td>1</td>\n      <td>0</td>\n      <td>clouds</td>\n      <td>good_weather</td>\n      <td>no_snow</td>\n      <td>0</td>\n    </tr>\n    <tr>\n      <th>2012-10-02 11:00:00</th>\n      <td>None</td>\n      <td>16.43</td>\n      <td>0.0</td>\n      <td>0.0</td>\n      <td>90.0</td>\n      <td>Clouds</td>\n      <td>overcast clouds</td>\n      <td>2012-10-02 11:00:00</td>\n      <td>4767.0</td>\n      <td>1</td>\n      <td>0</td>\n      <td>clouds</td>\n      <td>good_weather</td>\n      <td>no_snow</td>\n      <td>0</td>\n    </tr>\n    <tr>\n      <th>2012-10-02 12:00:00</th>\n      <td>None</td>\n      <td>16.98</td>\n      <td>0.0</td>\n      <td>0.0</td>\n      <td>90.0</td>\n      <td>Clouds</td>\n      <td>overcast clouds</td>\n      <td>2012-10-02 12:00:00</td>\n      <td>5026.0</td>\n      <td>1</td>\n      <td>0</td>\n      <td>clouds</td>\n      <td>good_weather</td>\n      <td>no_snow</td>\n      <td>0</td>\n    </tr>\n    <tr>\n      <th>2012-10-02 13:00:00</th>\n      <td>None</td>\n      <td>17.99</td>\n      <td>0.0</td>\n      <td>0.0</td>\n      <td>75.0</td>\n      <td>Clouds</td>\n      <td>broken clouds</td>\n      <td>2012-10-02 13:00:00</td>\n      <td>4918.0</td>\n      <td>1</td>\n      <td>0</td>\n      <td>clouds</td>\n      <td>good_weather</td>\n      <td>no_snow</td>\n      <td>0</td>\n    </tr>\n    <tr>\n      <th>...</th>\n      <td>...</td>\n      <td>...</td>\n      <td>...</td>\n      <td>...</td>\n      <td>...</td>\n      <td>...</td>\n      <td>...</td>\n      <td>...</td>\n      <td>...</td>\n      <td>...</td>\n      <td>...</td>\n      <td>...</td>\n      <td>...</td>\n      <td>...</td>\n      <td>...</td>\n    </tr>\n    <tr>\n      <th>2018-09-30 19:00:00</th>\n      <td>None</td>\n      <td>10.30</td>\n      <td>0.0</td>\n      <td>0.0</td>\n      <td>75.0</td>\n      <td>Clouds</td>\n      <td>broken clouds</td>\n      <td>2018-09-30 19:00:00</td>\n      <td>3543.0</td>\n      <td>6</td>\n      <td>1</td>\n      <td>clouds</td>\n      <td>good_weather</td>\n      <td>no_snow</td>\n      <td>0</td>\n    </tr>\n    <tr>\n      <th>2018-09-30 20:00:00</th>\n      <td>None</td>\n      <td>9.61</td>\n      <td>0.0</td>\n      <td>0.0</td>\n      <td>90.0</td>\n      <td>Clouds</td>\n      <td>overcast clouds</td>\n      <td>2018-09-30 20:00:00</td>\n      <td>2781.0</td>\n      <td>6</td>\n      <td>1</td>\n      <td>clouds</td>\n      <td>good_weather</td>\n      <td>no_snow</td>\n      <td>0</td>\n    </tr>\n    <tr>\n      <th>2018-09-30 21:00:00</th>\n      <td>None</td>\n      <td>9.58</td>\n      <td>0.0</td>\n      <td>0.0</td>\n      <td>90.0</td>\n      <td>Thunderstorm</td>\n      <td>proximity thunderstorm</td>\n      <td>2018-09-30 21:00:00</td>\n      <td>2159.0</td>\n      <td>6</td>\n      <td>1</td>\n      <td>thunderstorm</td>\n      <td>bad_weather</td>\n      <td>no_snow</td>\n      <td>0</td>\n    </tr>\n    <tr>\n      <th>2018-09-30 22:00:00</th>\n      <td>None</td>\n      <td>8.94</td>\n      <td>0.0</td>\n      <td>0.0</td>\n      <td>90.0</td>\n      <td>Clouds</td>\n      <td>overcast clouds</td>\n      <td>2018-09-30 22:00:00</td>\n      <td>1450.0</td>\n      <td>6</td>\n      <td>1</td>\n      <td>clouds</td>\n      <td>good_weather</td>\n      <td>no_snow</td>\n      <td>0</td>\n    </tr>\n    <tr>\n      <th>2018-09-30 23:00:00</th>\n      <td>None</td>\n      <td>8.97</td>\n      <td>0.0</td>\n      <td>0.0</td>\n      <td>90.0</td>\n      <td>Clouds</td>\n      <td>overcast clouds</td>\n      <td>2018-09-30 23:00:00</td>\n      <td>954.0</td>\n      <td>6</td>\n      <td>1</td>\n      <td>clouds</td>\n      <td>good_weather</td>\n      <td>no_snow</td>\n      <td>0</td>\n    </tr>\n  </tbody>\n</table>\n<p>44704 rows × 15 columns</p>\n</div>"
     },
     "execution_count": 33,
     "metadata": {},
     "output_type": "execute_result"
    }
   ],
   "source": [
    "abc4"
   ],
   "metadata": {
    "collapsed": false,
    "ExecuteTime": {
     "end_time": "2024-04-10T05:08:19.258964Z",
     "start_time": "2024-04-10T05:08:19.232743Z"
    }
   },
   "id": "e834e39016f403c6",
   "execution_count": 33
  },
  {
   "cell_type": "markdown",
   "source": [
    "# Weather Description(9) / Snow(2)/ Weather(2) label Encode"
   ],
   "metadata": {
    "collapsed": false
   },
   "id": "7a3231a5d0d11462"
  },
  {
   "cell_type": "code",
   "outputs": [
    {
     "data": {
      "text/plain": "                    holiday   temp  rain_1h  snow_1h  clouds_all  \\\ndate_time                                                          \n2012-10-02 09:00:00    None  15.13      0.0      0.0        40.0   \n2012-10-02 10:00:00    None  16.21      0.0      0.0        75.0   \n2012-10-02 11:00:00    None  16.43      0.0      0.0        90.0   \n2012-10-02 12:00:00    None  16.98      0.0      0.0        90.0   \n2012-10-02 13:00:00    None  17.99      0.0      0.0        75.0   \n...                     ...    ...      ...      ...         ...   \n2018-09-30 19:00:00    None  10.30      0.0      0.0        75.0   \n2018-09-30 20:00:00    None   9.61      0.0      0.0        90.0   \n2018-09-30 21:00:00    None   9.58      0.0      0.0        90.0   \n2018-09-30 22:00:00    None   8.94      0.0      0.0        90.0   \n2018-09-30 23:00:00    None   8.97      0.0      0.0        90.0   \n\n                     weather_main     weather_description           date_time  \\\ndate_time                                                                       \n2012-10-02 09:00:00        Clouds        scattered clouds 2012-10-02 09:00:00   \n2012-10-02 10:00:00        Clouds           broken clouds 2012-10-02 10:00:00   \n2012-10-02 11:00:00        Clouds         overcast clouds 2012-10-02 11:00:00   \n2012-10-02 12:00:00        Clouds         overcast clouds 2012-10-02 12:00:00   \n2012-10-02 13:00:00        Clouds           broken clouds 2012-10-02 13:00:00   \n...                           ...                     ...                 ...   \n2018-09-30 19:00:00        Clouds           broken clouds 2018-09-30 19:00:00   \n2018-09-30 20:00:00        Clouds         overcast clouds 2018-09-30 20:00:00   \n2018-09-30 21:00:00  Thunderstorm  proximity thunderstorm 2018-09-30 21:00:00   \n2018-09-30 22:00:00        Clouds         overcast clouds 2018-09-30 22:00:00   \n2018-09-30 23:00:00        Clouds         overcast clouds 2018-09-30 23:00:00   \n\n                     traffic_volume  Day_Week  Weekend  weather_desc  \\\ndate_time                                                              \n2012-10-02 09:00:00          5545.0         1        0             1   \n2012-10-02 10:00:00          4516.0         1        0             1   \n2012-10-02 11:00:00          4767.0         1        0             1   \n2012-10-02 12:00:00          5026.0         1        0             1   \n2012-10-02 13:00:00          4918.0         1        0             1   \n...                             ...       ...      ...           ...   \n2018-09-30 19:00:00          3543.0         6        1             1   \n2018-09-30 20:00:00          2781.0         6        1             1   \n2018-09-30 21:00:00          2159.0         6        1             8   \n2018-09-30 22:00:00          1450.0         6        1             1   \n2018-09-30 23:00:00           954.0         6        1             1   \n\n                     weather_bin  snow_bin  holi  \ndate_time                                         \n2012-10-02 09:00:00            1         0     0  \n2012-10-02 10:00:00            1         0     0  \n2012-10-02 11:00:00            1         0     0  \n2012-10-02 12:00:00            1         0     0  \n2012-10-02 13:00:00            1         0     0  \n...                          ...       ...   ...  \n2018-09-30 19:00:00            1         0     0  \n2018-09-30 20:00:00            1         0     0  \n2018-09-30 21:00:00            0         0     0  \n2018-09-30 22:00:00            1         0     0  \n2018-09-30 23:00:00            1         0     0  \n\n[44704 rows x 15 columns]",
      "text/html": "<div>\n<style scoped>\n    .dataframe tbody tr th:only-of-type {\n        vertical-align: middle;\n    }\n\n    .dataframe tbody tr th {\n        vertical-align: top;\n    }\n\n    .dataframe thead th {\n        text-align: right;\n    }\n</style>\n<table border=\"1\" class=\"dataframe\">\n  <thead>\n    <tr style=\"text-align: right;\">\n      <th></th>\n      <th>holiday</th>\n      <th>temp</th>\n      <th>rain_1h</th>\n      <th>snow_1h</th>\n      <th>clouds_all</th>\n      <th>weather_main</th>\n      <th>weather_description</th>\n      <th>date_time</th>\n      <th>traffic_volume</th>\n      <th>Day_Week</th>\n      <th>Weekend</th>\n      <th>weather_desc</th>\n      <th>weather_bin</th>\n      <th>snow_bin</th>\n      <th>holi</th>\n    </tr>\n    <tr>\n      <th>date_time</th>\n      <th></th>\n      <th></th>\n      <th></th>\n      <th></th>\n      <th></th>\n      <th></th>\n      <th></th>\n      <th></th>\n      <th></th>\n      <th></th>\n      <th></th>\n      <th></th>\n      <th></th>\n      <th></th>\n      <th></th>\n    </tr>\n  </thead>\n  <tbody>\n    <tr>\n      <th>2012-10-02 09:00:00</th>\n      <td>None</td>\n      <td>15.13</td>\n      <td>0.0</td>\n      <td>0.0</td>\n      <td>40.0</td>\n      <td>Clouds</td>\n      <td>scattered clouds</td>\n      <td>2012-10-02 09:00:00</td>\n      <td>5545.0</td>\n      <td>1</td>\n      <td>0</td>\n      <td>1</td>\n      <td>1</td>\n      <td>0</td>\n      <td>0</td>\n    </tr>\n    <tr>\n      <th>2012-10-02 10:00:00</th>\n      <td>None</td>\n      <td>16.21</td>\n      <td>0.0</td>\n      <td>0.0</td>\n      <td>75.0</td>\n      <td>Clouds</td>\n      <td>broken clouds</td>\n      <td>2012-10-02 10:00:00</td>\n      <td>4516.0</td>\n      <td>1</td>\n      <td>0</td>\n      <td>1</td>\n      <td>1</td>\n      <td>0</td>\n      <td>0</td>\n    </tr>\n    <tr>\n      <th>2012-10-02 11:00:00</th>\n      <td>None</td>\n      <td>16.43</td>\n      <td>0.0</td>\n      <td>0.0</td>\n      <td>90.0</td>\n      <td>Clouds</td>\n      <td>overcast clouds</td>\n      <td>2012-10-02 11:00:00</td>\n      <td>4767.0</td>\n      <td>1</td>\n      <td>0</td>\n      <td>1</td>\n      <td>1</td>\n      <td>0</td>\n      <td>0</td>\n    </tr>\n    <tr>\n      <th>2012-10-02 12:00:00</th>\n      <td>None</td>\n      <td>16.98</td>\n      <td>0.0</td>\n      <td>0.0</td>\n      <td>90.0</td>\n      <td>Clouds</td>\n      <td>overcast clouds</td>\n      <td>2012-10-02 12:00:00</td>\n      <td>5026.0</td>\n      <td>1</td>\n      <td>0</td>\n      <td>1</td>\n      <td>1</td>\n      <td>0</td>\n      <td>0</td>\n    </tr>\n    <tr>\n      <th>2012-10-02 13:00:00</th>\n      <td>None</td>\n      <td>17.99</td>\n      <td>0.0</td>\n      <td>0.0</td>\n      <td>75.0</td>\n      <td>Clouds</td>\n      <td>broken clouds</td>\n      <td>2012-10-02 13:00:00</td>\n      <td>4918.0</td>\n      <td>1</td>\n      <td>0</td>\n      <td>1</td>\n      <td>1</td>\n      <td>0</td>\n      <td>0</td>\n    </tr>\n    <tr>\n      <th>...</th>\n      <td>...</td>\n      <td>...</td>\n      <td>...</td>\n      <td>...</td>\n      <td>...</td>\n      <td>...</td>\n      <td>...</td>\n      <td>...</td>\n      <td>...</td>\n      <td>...</td>\n      <td>...</td>\n      <td>...</td>\n      <td>...</td>\n      <td>...</td>\n      <td>...</td>\n    </tr>\n    <tr>\n      <th>2018-09-30 19:00:00</th>\n      <td>None</td>\n      <td>10.30</td>\n      <td>0.0</td>\n      <td>0.0</td>\n      <td>75.0</td>\n      <td>Clouds</td>\n      <td>broken clouds</td>\n      <td>2018-09-30 19:00:00</td>\n      <td>3543.0</td>\n      <td>6</td>\n      <td>1</td>\n      <td>1</td>\n      <td>1</td>\n      <td>0</td>\n      <td>0</td>\n    </tr>\n    <tr>\n      <th>2018-09-30 20:00:00</th>\n      <td>None</td>\n      <td>9.61</td>\n      <td>0.0</td>\n      <td>0.0</td>\n      <td>90.0</td>\n      <td>Clouds</td>\n      <td>overcast clouds</td>\n      <td>2018-09-30 20:00:00</td>\n      <td>2781.0</td>\n      <td>6</td>\n      <td>1</td>\n      <td>1</td>\n      <td>1</td>\n      <td>0</td>\n      <td>0</td>\n    </tr>\n    <tr>\n      <th>2018-09-30 21:00:00</th>\n      <td>None</td>\n      <td>9.58</td>\n      <td>0.0</td>\n      <td>0.0</td>\n      <td>90.0</td>\n      <td>Thunderstorm</td>\n      <td>proximity thunderstorm</td>\n      <td>2018-09-30 21:00:00</td>\n      <td>2159.0</td>\n      <td>6</td>\n      <td>1</td>\n      <td>8</td>\n      <td>0</td>\n      <td>0</td>\n      <td>0</td>\n    </tr>\n    <tr>\n      <th>2018-09-30 22:00:00</th>\n      <td>None</td>\n      <td>8.94</td>\n      <td>0.0</td>\n      <td>0.0</td>\n      <td>90.0</td>\n      <td>Clouds</td>\n      <td>overcast clouds</td>\n      <td>2018-09-30 22:00:00</td>\n      <td>1450.0</td>\n      <td>6</td>\n      <td>1</td>\n      <td>1</td>\n      <td>1</td>\n      <td>0</td>\n      <td>0</td>\n    </tr>\n    <tr>\n      <th>2018-09-30 23:00:00</th>\n      <td>None</td>\n      <td>8.97</td>\n      <td>0.0</td>\n      <td>0.0</td>\n      <td>90.0</td>\n      <td>Clouds</td>\n      <td>overcast clouds</td>\n      <td>2018-09-30 23:00:00</td>\n      <td>954.0</td>\n      <td>6</td>\n      <td>1</td>\n      <td>1</td>\n      <td>1</td>\n      <td>0</td>\n      <td>0</td>\n    </tr>\n  </tbody>\n</table>\n<p>44704 rows × 15 columns</p>\n</div>"
     },
     "execution_count": 34,
     "metadata": {},
     "output_type": "execute_result"
    }
   ],
   "source": [
    "# Import the LabelEncoder from the preprocessing module in scikit-learn\n",
    "from sklearn import preprocessing\n",
    "\n",
    "# Create a LabelEncoder object\n",
    "le = preprocessing.LabelEncoder()\n",
    "\n",
    "abc5 = abc4.copy()\n",
    "\n",
    "col_lst = ['weather_desc', 'snow_bin', 'weather_bin']\n",
    "\n",
    "# Label encode each column in col_lst\n",
    "encoded_data = {}\n",
    "for col in col_lst:\n",
    "    abc5[col] = le.fit_transform(abc5[col])\n",
    "    encoded_data[col] = dict(zip(le.transform(le.classes_), le.classes_))\n",
    "\n",
    "\n",
    "# Display the DataFrame after label encoding\n",
    "abc5\n"
   ],
   "metadata": {
    "collapsed": false,
    "ExecuteTime": {
     "end_time": "2024-04-10T05:08:19.317823Z",
     "start_time": "2024-04-10T05:08:19.264967Z"
    }
   },
   "id": "29c4668c512d71e2",
   "execution_count": 34
  },
  {
   "cell_type": "code",
   "outputs": [
    {
     "data": {
      "text/plain": "holiday                        object\ntemp                          float64\nrain_1h                       float64\nsnow_1h                       float64\nclouds_all                    float64\nweather_main                   object\nweather_description            object\ndate_time              datetime64[ns]\ntraffic_volume                float64\nDay_Week                        int64\nWeekend                         int64\nweather_desc                    int32\nweather_bin                     int32\nsnow_bin                        int32\nholi                            int64\ndtype: object"
     },
     "execution_count": 35,
     "metadata": {},
     "output_type": "execute_result"
    }
   ],
   "source": [
    "abc5.dtypes"
   ],
   "metadata": {
    "collapsed": false,
    "ExecuteTime": {
     "end_time": "2024-04-10T05:08:19.324722Z",
     "start_time": "2024-04-10T05:08:19.318846Z"
    }
   },
   "id": "c20b2ed4e5391d",
   "execution_count": 35
  },
  {
   "cell_type": "code",
   "outputs": [
    {
     "name": "stdout",
     "output_type": "stream",
     "text": [
      "weather_desc:\n",
      "  0: clear\n",
      "  1: clouds\n",
      "  2: fog\n",
      "  3: haze\n",
      "  4: mist\n",
      "  5: other\n",
      "  6: rain\n",
      "  7: snow\n",
      "  8: thunderstorm\n",
      "snow_bin:\n",
      "  0: no_snow\n",
      "  1: snow\n",
      "weather_bin:\n",
      "  0: bad_weather\n",
      "  1: good_weather\n"
     ]
    }
   ],
   "source": [
    "# Define a function to print the mapping of encoded values to their original meanings\n",
    "def print_label_mapping(encoded_data, col_name):\n",
    "    print(f\"{col_name}:\")\n",
    "    for encoded_value, original_meaning in encoded_data[col_name].items():\n",
    "        print(f\"  {encoded_value}: {original_meaning}\")\n",
    "\n",
    "# Print the mapping of encoded values to their original meanings for each column\n",
    "for col in col_lst:\n",
    "    print_label_mapping(encoded_data, col)"
   ],
   "metadata": {
    "collapsed": false,
    "ExecuteTime": {
     "end_time": "2024-04-10T05:08:19.330771Z",
     "start_time": "2024-04-10T05:08:19.325234Z"
    }
   },
   "id": "a7b0915a7eb5cdcd",
   "execution_count": 36
  },
  {
   "cell_type": "code",
   "outputs": [],
   "source": [
    "abc5.to_csv('data_prep_bin_traffic.csv', index=False)"
   ],
   "metadata": {
    "collapsed": false,
    "ExecuteTime": {
     "end_time": "2024-04-10T05:08:19.799103Z",
     "start_time": "2024-04-10T05:08:19.331779Z"
    }
   },
   "id": "1ff50ba1fc3282b4",
   "execution_count": 37
  }
 ],
 "metadata": {
  "kernelspec": {
   "display_name": "Python 3",
   "language": "python",
   "name": "python3"
  },
  "language_info": {
   "codemirror_mode": {
    "name": "ipython",
    "version": 2
   },
   "file_extension": ".py",
   "mimetype": "text/x-python",
   "name": "python",
   "nbconvert_exporter": "python",
   "pygments_lexer": "ipython2",
   "version": "2.7.6"
  }
 },
 "nbformat": 4,
 "nbformat_minor": 5
}
