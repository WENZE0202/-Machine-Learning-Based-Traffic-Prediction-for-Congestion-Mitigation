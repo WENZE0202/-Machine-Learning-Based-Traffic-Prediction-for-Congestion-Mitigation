{
 "cells": [
  {
   "cell_type": "code",
   "execution_count": 1,
   "id": "initial_id",
   "metadata": {
    "collapsed": true,
    "ExecuteTime": {
     "end_time": "2024-04-25T03:20:09.394145Z",
     "start_time": "2024-04-25T03:20:05.595477Z"
    }
   },
   "outputs": [],
   "source": [
    "from joblib import load\n",
    "\n",
    "# Load the saved LightGBM model\n",
    "best_lgb_model = load(\"best_lgb_model.joblib\")\n"
   ]
  },
  {
   "cell_type": "code",
   "outputs": [
    {
     "data": {
      "text/plain": "      holiday   temp  rain_1h  snow_1h  clouds_all  weather_main  \\\n0         NaN  15.13      0.0      0.0        40.0        Clouds   \n1         NaN  16.21      0.0      0.0        75.0        Clouds   \n2         NaN  16.43      0.0      0.0        90.0        Clouds   \n3         NaN  16.98      0.0      0.0        90.0        Clouds   \n4         NaN  17.99      0.0      0.0        75.0        Clouds   \n...       ...    ...      ...      ...         ...           ...   \n44699     NaN  10.30      0.0      0.0        75.0        Clouds   \n44700     NaN   9.61      0.0      0.0        90.0        Clouds   \n44701     NaN   9.58      0.0      0.0        90.0  Thunderstorm   \n44702     NaN   8.94      0.0      0.0        90.0        Clouds   \n44703     NaN   8.97      0.0      0.0        90.0        Clouds   \n\n          weather_description  traffic_volume  Day_Week  Weekend  \\\n0            scattered clouds          5545.0         1        0   \n1               broken clouds          4516.0         1        0   \n2             overcast clouds          4767.0         1        0   \n3             overcast clouds          5026.0         1        0   \n4               broken clouds          4918.0         1        0   \n...                       ...             ...       ...      ...   \n44699           broken clouds          3543.0         6        1   \n44700         overcast clouds          2781.0         6        1   \n44701  proximity thunderstorm          2159.0         6        1   \n44702         overcast clouds          1450.0         6        1   \n44703         overcast clouds           954.0         6        1   \n\n       weather_desc  weather_bin  snow_bin  holi  year  month  weekday  hour  \\\n0                 1            1         0     0  2012     10        1     9   \n1                 1            1         0     0  2012     10        1    10   \n2                 1            1         0     0  2012     10        1    11   \n3                 1            1         0     0  2012     10        1    12   \n4                 1            1         0     0  2012     10        1    13   \n...             ...          ...       ...   ...   ...    ...      ...   ...   \n44699             1            1         0     0  2018      9        6    19   \n44700             1            1         0     0  2018      9        6    20   \n44701             8            0         0     0  2018      9        6    21   \n44702             1            1         0     0  2018      9        6    22   \n44703             1            1         0     0  2018      9        6    23   \n\n        day_part  \n0        morning  \n1        morning  \n2        morning  \n3        morning  \n4      afternoon  \n...          ...  \n44699      night  \n44700      night  \n44701      night  \n44702      night  \n44703      night  \n\n[44704 rows x 19 columns]",
      "text/html": "<div>\n<style scoped>\n    .dataframe tbody tr th:only-of-type {\n        vertical-align: middle;\n    }\n\n    .dataframe tbody tr th {\n        vertical-align: top;\n    }\n\n    .dataframe thead th {\n        text-align: right;\n    }\n</style>\n<table border=\"1\" class=\"dataframe\">\n  <thead>\n    <tr style=\"text-align: right;\">\n      <th></th>\n      <th>holiday</th>\n      <th>temp</th>\n      <th>rain_1h</th>\n      <th>snow_1h</th>\n      <th>clouds_all</th>\n      <th>weather_main</th>\n      <th>weather_description</th>\n      <th>traffic_volume</th>\n      <th>Day_Week</th>\n      <th>Weekend</th>\n      <th>weather_desc</th>\n      <th>weather_bin</th>\n      <th>snow_bin</th>\n      <th>holi</th>\n      <th>year</th>\n      <th>month</th>\n      <th>weekday</th>\n      <th>hour</th>\n      <th>day_part</th>\n    </tr>\n  </thead>\n  <tbody>\n    <tr>\n      <th>0</th>\n      <td>NaN</td>\n      <td>15.13</td>\n      <td>0.0</td>\n      <td>0.0</td>\n      <td>40.0</td>\n      <td>Clouds</td>\n      <td>scattered clouds</td>\n      <td>5545.0</td>\n      <td>1</td>\n      <td>0</td>\n      <td>1</td>\n      <td>1</td>\n      <td>0</td>\n      <td>0</td>\n      <td>2012</td>\n      <td>10</td>\n      <td>1</td>\n      <td>9</td>\n      <td>morning</td>\n    </tr>\n    <tr>\n      <th>1</th>\n      <td>NaN</td>\n      <td>16.21</td>\n      <td>0.0</td>\n      <td>0.0</td>\n      <td>75.0</td>\n      <td>Clouds</td>\n      <td>broken clouds</td>\n      <td>4516.0</td>\n      <td>1</td>\n      <td>0</td>\n      <td>1</td>\n      <td>1</td>\n      <td>0</td>\n      <td>0</td>\n      <td>2012</td>\n      <td>10</td>\n      <td>1</td>\n      <td>10</td>\n      <td>morning</td>\n    </tr>\n    <tr>\n      <th>2</th>\n      <td>NaN</td>\n      <td>16.43</td>\n      <td>0.0</td>\n      <td>0.0</td>\n      <td>90.0</td>\n      <td>Clouds</td>\n      <td>overcast clouds</td>\n      <td>4767.0</td>\n      <td>1</td>\n      <td>0</td>\n      <td>1</td>\n      <td>1</td>\n      <td>0</td>\n      <td>0</td>\n      <td>2012</td>\n      <td>10</td>\n      <td>1</td>\n      <td>11</td>\n      <td>morning</td>\n    </tr>\n    <tr>\n      <th>3</th>\n      <td>NaN</td>\n      <td>16.98</td>\n      <td>0.0</td>\n      <td>0.0</td>\n      <td>90.0</td>\n      <td>Clouds</td>\n      <td>overcast clouds</td>\n      <td>5026.0</td>\n      <td>1</td>\n      <td>0</td>\n      <td>1</td>\n      <td>1</td>\n      <td>0</td>\n      <td>0</td>\n      <td>2012</td>\n      <td>10</td>\n      <td>1</td>\n      <td>12</td>\n      <td>morning</td>\n    </tr>\n    <tr>\n      <th>4</th>\n      <td>NaN</td>\n      <td>17.99</td>\n      <td>0.0</td>\n      <td>0.0</td>\n      <td>75.0</td>\n      <td>Clouds</td>\n      <td>broken clouds</td>\n      <td>4918.0</td>\n      <td>1</td>\n      <td>0</td>\n      <td>1</td>\n      <td>1</td>\n      <td>0</td>\n      <td>0</td>\n      <td>2012</td>\n      <td>10</td>\n      <td>1</td>\n      <td>13</td>\n      <td>afternoon</td>\n    </tr>\n    <tr>\n      <th>...</th>\n      <td>...</td>\n      <td>...</td>\n      <td>...</td>\n      <td>...</td>\n      <td>...</td>\n      <td>...</td>\n      <td>...</td>\n      <td>...</td>\n      <td>...</td>\n      <td>...</td>\n      <td>...</td>\n      <td>...</td>\n      <td>...</td>\n      <td>...</td>\n      <td>...</td>\n      <td>...</td>\n      <td>...</td>\n      <td>...</td>\n      <td>...</td>\n    </tr>\n    <tr>\n      <th>44699</th>\n      <td>NaN</td>\n      <td>10.30</td>\n      <td>0.0</td>\n      <td>0.0</td>\n      <td>75.0</td>\n      <td>Clouds</td>\n      <td>broken clouds</td>\n      <td>3543.0</td>\n      <td>6</td>\n      <td>1</td>\n      <td>1</td>\n      <td>1</td>\n      <td>0</td>\n      <td>0</td>\n      <td>2018</td>\n      <td>9</td>\n      <td>6</td>\n      <td>19</td>\n      <td>night</td>\n    </tr>\n    <tr>\n      <th>44700</th>\n      <td>NaN</td>\n      <td>9.61</td>\n      <td>0.0</td>\n      <td>0.0</td>\n      <td>90.0</td>\n      <td>Clouds</td>\n      <td>overcast clouds</td>\n      <td>2781.0</td>\n      <td>6</td>\n      <td>1</td>\n      <td>1</td>\n      <td>1</td>\n      <td>0</td>\n      <td>0</td>\n      <td>2018</td>\n      <td>9</td>\n      <td>6</td>\n      <td>20</td>\n      <td>night</td>\n    </tr>\n    <tr>\n      <th>44701</th>\n      <td>NaN</td>\n      <td>9.58</td>\n      <td>0.0</td>\n      <td>0.0</td>\n      <td>90.0</td>\n      <td>Thunderstorm</td>\n      <td>proximity thunderstorm</td>\n      <td>2159.0</td>\n      <td>6</td>\n      <td>1</td>\n      <td>8</td>\n      <td>0</td>\n      <td>0</td>\n      <td>0</td>\n      <td>2018</td>\n      <td>9</td>\n      <td>6</td>\n      <td>21</td>\n      <td>night</td>\n    </tr>\n    <tr>\n      <th>44702</th>\n      <td>NaN</td>\n      <td>8.94</td>\n      <td>0.0</td>\n      <td>0.0</td>\n      <td>90.0</td>\n      <td>Clouds</td>\n      <td>overcast clouds</td>\n      <td>1450.0</td>\n      <td>6</td>\n      <td>1</td>\n      <td>1</td>\n      <td>1</td>\n      <td>0</td>\n      <td>0</td>\n      <td>2018</td>\n      <td>9</td>\n      <td>6</td>\n      <td>22</td>\n      <td>night</td>\n    </tr>\n    <tr>\n      <th>44703</th>\n      <td>NaN</td>\n      <td>8.97</td>\n      <td>0.0</td>\n      <td>0.0</td>\n      <td>90.0</td>\n      <td>Clouds</td>\n      <td>overcast clouds</td>\n      <td>954.0</td>\n      <td>6</td>\n      <td>1</td>\n      <td>1</td>\n      <td>1</td>\n      <td>0</td>\n      <td>0</td>\n      <td>2018</td>\n      <td>9</td>\n      <td>6</td>\n      <td>23</td>\n      <td>night</td>\n    </tr>\n  </tbody>\n</table>\n<p>44704 rows × 19 columns</p>\n</div>"
     },
     "execution_count": 2,
     "metadata": {},
     "output_type": "execute_result"
    }
   ],
   "source": [
    "import pandas as pd\n",
    "\n",
    "df = pd.read_csv('final_dataset.csv')\n",
    "df"
   ],
   "metadata": {
    "collapsed": false,
    "ExecuteTime": {
     "end_time": "2024-04-25T03:56:44.595565Z",
     "start_time": "2024-04-25T03:56:43.569140Z"
    }
   },
   "id": "b50f5be3c687aac6",
   "execution_count": 2
  },
  {
   "cell_type": "markdown",
   "source": [
    "# Model Deployment"
   ],
   "metadata": {
    "collapsed": false
   },
   "id": "2a094dcdb5c18f11"
  },
  {
   "cell_type": "code",
   "outputs": [],
   "source": [
    "import logging\n",
    "logging.basicConfig(level=logging.DEBUG)\n"
   ],
   "metadata": {
    "collapsed": false,
    "ExecuteTime": {
     "end_time": "2024-04-25T04:19:07.611643Z",
     "start_time": "2024-04-25T04:19:07.510702Z"
    }
   },
   "id": "28a9cbe1146a636b",
   "execution_count": 3
  },
  {
   "cell_type": "code",
   "outputs": [
    {
     "name": "stdout",
     "output_type": "stream",
     "text": [
      " * Serving Flask app '__main__'\n",
      " * Debug mode: on\n"
     ]
    },
    {
     "name": "stderr",
     "output_type": "stream",
     "text": [
      "INFO:werkzeug:\u001B[31m\u001B[1mWARNING: This is a development server. Do not use it in a production deployment. Use a production WSGI server instead.\u001B[0m\n",
      " * Running on http://127.0.0.1:5000\n",
      "INFO:werkzeug:\u001B[33mPress CTRL+C to quit\u001B[0m\n",
      "INFO:werkzeug: * Restarting with watchdog (windowsapi)\n"
     ]
    },
    {
     "ename": "SystemExit",
     "evalue": "1",
     "output_type": "error",
     "traceback": [
      "An exception has occurred, use %tb to see the full traceback.\n",
      "\u001B[1;31mSystemExit\u001B[0m\u001B[1;31m:\u001B[0m 1\n"
     ]
    },
    {
     "name": "stderr",
     "output_type": "stream",
     "text": [
      "C:\\Users\\Hp\\anaconda3\\Lib\\site-packages\\IPython\\core\\interactiveshell.py:3534: UserWarning: To exit: use 'exit', 'quit', or Ctrl-D.\n",
      "  warn(\"To exit: use 'exit', 'quit', or Ctrl-D.\", stacklevel=1)\n"
     ]
    }
   ],
   "source": [
    "from flask import Flask, render_template, request\n",
    "\n",
    "app = Flask(__name__)\n",
    "\n",
    "@app.route('/')\n",
    "def index():\n",
    "    return render_template('index.html')\n",
    "\n",
    "@app.route('/predict', methods=['POST'])\n",
    "def predict():\n",
    "    logging.debug('Received POST request to /predict')\n",
    "\n",
    "    temp = request.form['temp']\n",
    "    rain_1h = request.form['rain_1h']\n",
    "    snow_bin = request.form['snow_bin']\n",
    "    clouds_all = request.form['clouds_all']\n",
    "    Day_Week = request.form['Day_Week']\n",
    "    Weekend = request.form['Weekend']\n",
    "    weather_desc = request.form['weather_desc']\n",
    "    holi = request.form['holi']\n",
    "    month = request.form['month']\n",
    "    hour = request.form['hour']\n",
    "    day_part = request.form['day_part']\n",
    "\n",
    "    logging.debug(f'Parameters received - Temp: {temp}, Rain 1h: {rain_1h}, Snow Bin: {snow_bin}, Clouds: {clouds_all}, Day of Week: {Day_Week}, Weekend: {Weekend}, Weather Desc: {weather_desc}, Holiday: {holi}, Month: {month}, Hour: {hour}, Day Part: {day_part}')\n",
    "\n",
    "    return f'Temp: {temp}, Rain 1h: {rain_1h}, Snow Bin: {snow_bin}, Clouds: {clouds_all}, Day of Week: {Day_Week}, Weekend: {Weekend}, Weather Desc: {weather_desc}, Holiday: {holi}, Month: {month}, Hour: {hour}, Day Part: {day_part}'\n",
    "\n",
    "\n",
    "if __name__ == '__main__':\n",
    "    app.run(debug=True)\n"
   ],
   "metadata": {
    "collapsed": false,
    "ExecuteTime": {
     "end_time": "2024-04-25T04:19:11.636986Z",
     "start_time": "2024-04-25T04:19:09.494157Z"
    }
   },
   "id": "a6d1610d70c08da4",
   "execution_count": 4
  },
  {
   "cell_type": "code",
   "outputs": [],
   "source": [],
   "metadata": {
    "collapsed": false
   },
   "id": "a8368ff9f181c760"
  }
 ],
 "metadata": {
  "kernelspec": {
   "display_name": "Python 3",
   "language": "python",
   "name": "python3"
  },
  "language_info": {
   "codemirror_mode": {
    "name": "ipython",
    "version": 2
   },
   "file_extension": ".py",
   "mimetype": "text/x-python",
   "name": "python",
   "nbconvert_exporter": "python",
   "pygments_lexer": "ipython2",
   "version": "2.7.6"
  }
 },
 "nbformat": 4,
 "nbformat_minor": 5
}
